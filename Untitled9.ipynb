{
  "nbformat": 4,
  "nbformat_minor": 0,
  "metadata": {
    "colab": {
      "name": "Untitled9.ipynb",
      "provenance": [],
      "collapsed_sections": []
    },
    "kernelspec": {
      "name": "python3",
      "display_name": "Python 3"
    }
  },
  "cells": [
    {
      "cell_type": "code",
      "metadata": {
        "id": "gQ6A3hDGh2s0",
        "colab_type": "code",
        "colab": {
          "base_uri": "https://localhost:8080/",
          "height": 256
        },
        "outputId": "ea39f228-3062-445b-e2df-f315eaf1d11a"
      },
      "source": [
        "import nltk\n",
        "from nltk.stem.lancaster import LancasterStemmer\n",
        "stemmer = LancasterStemmer()\n",
        "\n",
        "import numpy\n",
        "import tflearn\n",
        "import tensorflow\n",
        "import random\n",
        "import json\n",
        "import pickle"
      ],
      "execution_count": 1,
      "outputs": [
        {
          "output_type": "display_data",
          "data": {
            "text/html": [
              "<p style=\"color: red;\">\n",
              "The default version of TensorFlow in Colab will soon switch to TensorFlow 2.x.<br>\n",
              "We recommend you <a href=\"https://www.tensorflow.org/guide/migrate\" target=\"_blank\">upgrade</a> now \n",
              "or ensure your notebook will continue to use TensorFlow 1.x via the <code>%tensorflow_version 1.x</code> magic:\n",
              "<a href=\"https://colab.research.google.com/notebooks/tensorflow_version.ipynb\" target=\"_blank\">more info</a>.</p>\n"
            ],
            "text/plain": [
              "<IPython.core.display.HTML object>"
            ]
          },
          "metadata": {
            "tags": []
          }
        },
        {
          "output_type": "stream",
          "text": [
            "WARNING:tensorflow:From /usr/local/lib/python3.6/dist-packages/tflearn/helpers/summarizer.py:9: The name tf.summary.merge is deprecated. Please use tf.compat.v1.summary.merge instead.\n",
            "\n",
            "WARNING:tensorflow:From /usr/local/lib/python3.6/dist-packages/tflearn/helpers/trainer.py:25: The name tf.summary.FileWriter is deprecated. Please use tf.compat.v1.summary.FileWriter instead.\n",
            "\n",
            "WARNING:tensorflow:From /usr/local/lib/python3.6/dist-packages/tflearn/collections.py:13: The name tf.GraphKeys is deprecated. Please use tf.compat.v1.GraphKeys instead.\n",
            "\n",
            "WARNING:tensorflow:From /usr/local/lib/python3.6/dist-packages/tflearn/config.py:123: The name tf.get_collection is deprecated. Please use tf.compat.v1.get_collection instead.\n",
            "\n",
            "WARNING:tensorflow:From /usr/local/lib/python3.6/dist-packages/tflearn/config.py:129: The name tf.add_to_collection is deprecated. Please use tf.compat.v1.add_to_collection instead.\n",
            "\n",
            "WARNING:tensorflow:From /usr/local/lib/python3.6/dist-packages/tflearn/config.py:131: The name tf.assign is deprecated. Please use tf.compat.v1.assign instead.\n",
            "\n"
          ],
          "name": "stdout"
        }
      ]
    },
    {
      "cell_type": "code",
      "metadata": {
        "id": "FsPj7JJtjYE9",
        "colab_type": "code",
        "outputId": "552f1306-6dd0-4876-9f18-3dcda5647b3d",
        "colab": {
          "base_uri": "https://localhost:8080/",
          "height": 53
        }
      },
      "source": [
        "with open(\"/content/intents.json\") as file:\n",
        "  data = json.load(file)\n",
        "\n",
        "print(data)"
      ],
      "execution_count": 2,
      "outputs": [
        {
          "output_type": "stream",
          "text": [
            "{'intents': [{'tag': 'greeting', 'patterns': ['Hi', 'Hai', 'Halo', 'Selamat Pagi', 'Selamat Siang', 'Selamat Sore', 'Selamat Malam'], 'responses': ['Hello :)', 'Selamat datang di Toko Baju BFM', 'Ada yang bisa dibantu?'], 'context_set': ''}, {'tag': 'goodbye', 'patterns': ['Terimakasih', 'Sampai Jumpa', 'Goodbye', 'Sampai bertemu kembali', 'okelah bye', 'bye', 'oke dah'], 'responses': ['Sedih melihatmu pergi :(', 'Sampai jumpa kembali', 'Jangan lupa berbelanja ke toko kami :)', 'Goodbye :)', 'Bye :)'], 'context_set': ''}, {'tag': 'size', 'patterns': ['Ukuran berapa yang tersedia?', 'Apa saja macam ukurannya?', 'Ukurannya tinggal apa?'], 'responses': ['Semua ukuran masih ada :)', 'Ukuran di toko kami ada S, M, L, XL kak'], 'context_set': ''}, {'tag': 'color', 'patterns': ['Ada warna apa saja?', 'Tinggal warna apa?', 'Rekomendasikan warna untukku'], 'responses': ['Semua warna ada :)', 'Merah,biru,putih,hitam cocok untukmu :)'], 'context_set': ''}, {'tag': 'shop', 'patterns': ['Saya ingin membeli sesuatu', 'Apa model baju yang tersedia?', 'rekomendasikan model baju'], 'responses': ['Kami memiliki model kaos, kemeja, dan jaket terbaru', 'Kamu dapat membeli berbagai model terbaru'], 'context_set': ''}, {'tag': 'hours', 'patterns': ['jam berapa buka?', 'Jam berapa tutup?', 'Buka hari apa saja?'], 'responses': ['Kita buka jam 7am-4pm Senin-Jumat!'], 'context_set': ''}, {'tag': 'confirm', 'patterns': ['saya ingin kaos', 'saya ingin kemeja', 'saya ingin jaket'], 'responses': ['Baik kak warnanya apa?'], 'context_set': ''}, {'tag': 'confirm_size', 'patterns': ['ukuran saya S', 'ukuran saya M', 'ukuran saya L', 'ukuran saya XL'], 'responses': ['Baik kak silakan lakukan pembayaran di toko kami, lakukan pembayaran selama 1 jam atau kami masukkan waiting list. Terima kasih sudah berbelanja di toko kami :)'], 'context_set': ''}, {'tag': 'confirm_color', 'patterns': ['warna merah', 'warna biru', 'warna hitam', 'warna putih', 'merah', 'biru', 'putih', 'hitam'], 'responses': ['Oke kak ukurannya apa?'], 'context_set': ''}, {'tag': 'price', 'patterns': ['berapa harga kaos', 'harga kemeja', 'harga jaket'], 'responses': ['Harga kaos mulai dari Rp. 50.000 - 100.000, Harga kemeja mulai dari Rp. 80.000 - 200.000, Harga jaket mulai dari Rp. 150.000 - 400.000'], 'context_set': ''}]}\n"
          ],
          "name": "stdout"
        }
      ]
    },
    {
      "cell_type": "code",
      "metadata": {
        "id": "IrLSD6W4rzjV",
        "colab_type": "code",
        "outputId": "5406664e-8550-46e3-97bb-5afacf999fb2",
        "colab": {
          "base_uri": "https://localhost:8080/",
          "height": 66
        }
      },
      "source": [
        "nltk.download('punkt')"
      ],
      "execution_count": 5,
      "outputs": [
        {
          "output_type": "stream",
          "text": [
            "[nltk_data] Downloading package punkt to /root/nltk_data...\n",
            "[nltk_data]   Package punkt is already up-to-date!\n"
          ],
          "name": "stdout"
        },
        {
          "output_type": "execute_result",
          "data": {
            "text/plain": [
              "True"
            ]
          },
          "metadata": {
            "tags": []
          },
          "execution_count": 5
        }
      ]
    },
    {
      "cell_type": "code",
      "metadata": {
        "id": "Kou8wqslkjmY",
        "colab_type": "code",
        "colab": {}
      },
      "source": [
        "try:\n",
        "  with open(\"data.pickle\", \"rb\") as f:\n",
        "    words, labels, training, output = pickle.load(f)\n",
        "except:\n",
        "  words = []\n",
        "  labels = []\n",
        "  docs_x = []\n",
        "  docs_y = []\n",
        "\n",
        "  for intent in data[\"intents\"]:\n",
        "    \n",
        "    for pattern in intent[\"patterns\"]:\n",
        "      wrds = nltk.word_tokenize(pattern)\n",
        "      # print(wrds)\n",
        "      words.extend(wrds)\n",
        "      docs_x.append(wrds)\n",
        "      docs_y.append(intent[\"tag\"])\n",
        "\n",
        "    \n",
        "    if intent[\"tag\"] not in labels:\n",
        "      labels.append(intent[\"tag\"])\n",
        "\n",
        "  words = [stemmer.stem(w.lower()) for w in words if w != \"?\"]\n",
        "  words = sorted(list(set(words))) # set untuk menghilangkan kata yang sama\n",
        "  \n",
        "  labels = sorted(labels)\n",
        "\n",
        "  training = []\n",
        "  output = []\n",
        "\n",
        "  out_empty = [0 for _ in range(len(labels))]\n",
        "\n",
        "  for x, doc in enumerate(docs_x):\n",
        "    bag = []\n",
        "\n",
        "    wrds = [stemmer.stem(w) for w in doc]\n",
        "\n",
        "    for w in words:\n",
        "      if w in wrds:\n",
        "        bag.append(1)\n",
        "      else:\n",
        "        bag.append(0)\n",
        "    \n",
        "    output_row = out_empty[:]\n",
        "    output_row[labels.index(docs_y[x])] = 1\n",
        "\n",
        "    training.append(bag)\n",
        "    output.append(output_row)\n",
        "\n",
        "  training = numpy.array(training)\n",
        "  output = numpy.array(output)\n",
        "\n",
        "  with open(\"data.pickle\", \"wb\") as f:\n",
        "    pickle.dump((words, labels, training, output), f)\n",
        "\n"
      ],
      "execution_count": 0,
      "outputs": []
    },
    {
      "cell_type": "code",
      "metadata": {
        "id": "KGGYzg2ArTXx",
        "colab_type": "code",
        "outputId": "c30326e9-7450-4aec-b989-d9df7cf2a79c",
        "colab": {
          "base_uri": "https://localhost:8080/",
          "height": 115
        }
      },
      "source": [
        "tensorflow.reset_default_graph()\n",
        "\n",
        "net = tflearn.input_data(shape=[None, len(training[0])])\n",
        "net = tflearn.fully_connected(net, 8)\n",
        "net = tflearn.fully_connected(net, 8)\n",
        "net = tflearn.fully_connected(net, len(output[0]), activation=\"softmax\")\n",
        "net = tflearn.regression(net)\n",
        "\n",
        "model = tflearn.DNN(net)\n",
        "\n",
        "# try:\n",
        "#   model.load(\"model.tflearn\")\n",
        "# except:\n",
        "model.fit(training, output, n_epoch=1000, batch_size=8, show_metric=True)\n",
        "model.save(\"model.tflearn\")"
      ],
      "execution_count": 8,
      "outputs": [
        {
          "output_type": "stream",
          "text": [
            "Training Step: 5999  | total loss: \u001b[1m\u001b[32m0.03387\u001b[0m\u001b[0m | time: 0.021s\n",
            "| Adam | epoch: 1000 | loss: 0.03387 - acc: 1.0000 -- iter: 40/44\n",
            "Training Step: 6000  | total loss: \u001b[1m\u001b[32m0.03409\u001b[0m\u001b[0m | time: 0.025s\n",
            "| Adam | epoch: 1000 | loss: 0.03409 - acc: 1.0000 -- iter: 44/44\n",
            "--\n",
            "INFO:tensorflow:/content/model.tflearn is not in all_model_checkpoint_paths. Manually adding it.\n"
          ],
          "name": "stdout"
        }
      ]
    },
    {
      "cell_type": "code",
      "metadata": {
        "id": "Get5Me8SrWgr",
        "colab_type": "code",
        "colab": {}
      },
      "source": [
        "def bag_of_words(s, words):\n",
        "  bag = [0 for _ in range(len(words))]\n",
        "\n",
        "  s_words = nltk.word_tokenize(s)\n",
        "  s_words = [stemmer.stem(word.lower()) for word in s_words]\n",
        "\n",
        "  for se in s_words:\n",
        "    for i, w in enumerate(words):\n",
        "      if w == se:\n",
        "        bag[i] = 1\n",
        "\n",
        "  return numpy.array(bag)\n",
        "\n",
        "def chat():\n",
        "  print(\"Start talking with the bot! (type quit to stop)\")\n",
        "  while True:\n",
        "    inp = input(\"You: \")\n",
        "    if inp.lower() == \"quit\":\n",
        "      break\n",
        "    \n",
        "    results = model.predict([bag_of_words(inp, words)])\n",
        "    results_index = numpy.argmax(results)\n",
        "    tag = labels[results_index]\n",
        "    # print(tag)\n",
        "    for tg in data[\"intents\"]:\n",
        "      if tg['tag'] == tag:\n",
        "        responses = tg['responses']\n",
        "    print(tag)\n",
        "    print(random.choice(responses))"
      ],
      "execution_count": 0,
      "outputs": []
    },
    {
      "cell_type": "code",
      "metadata": {
        "id": "v5F41V_Rbhoz",
        "colab_type": "code",
        "outputId": "15e42acb-fcba-4336-e041-b2836e405c1e",
        "colab": {
          "base_uri": "https://localhost:8080/",
          "height": 98
        }
      },
      "source": [
        "chat()"
      ],
      "execution_count": 10,
      "outputs": [
        {
          "output_type": "stream",
          "text": [
            "Start talking with the bot! (type quit to stop)\n",
            "You: halo\n",
            "greeting\n",
            "Hello :)\n",
            "You: quit\n"
          ],
          "name": "stdout"
        }
      ]
    },
    {
      "cell_type": "code",
      "metadata": {
        "id": "C1srC-jUrrAK",
        "colab_type": "code",
        "colab": {}
      },
      "source": [
        ""
      ],
      "execution_count": 0,
      "outputs": []
    }
  ]
}